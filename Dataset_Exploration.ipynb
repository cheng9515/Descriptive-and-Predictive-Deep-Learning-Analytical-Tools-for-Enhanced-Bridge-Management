{
 "cells": [
  {
   "cell_type": "markdown",
   "metadata": {},
   "source": [
    "# After reading through the dataset initially we came to the conclusion that we will consider the following features for our data exploration (We list and define them below based on the provided Data Catalog):\n",
    "1. **Sufficieny Rating** - A method of evaluating highway bridge data by calculating four separate factors to obtain a numeric value indicative of bridge sufficiency to remain in service. The result of this method is a percentage in chich 100 percent would represent an entirely sufficient bridge and percent would represent an entirely insufficient or deficient bridge.\n",
    "2. **County Code** - Counties identified by Federal Information Processing Standards (FIPS) codes given in the current version of the Census of Population and Housing - Geographic Identification Code Scheme.\n",
    "3. **Max Clr** - Code the minimum vertical clearance over the inventory route identified in Item 5, whether the route is \"on\" the structure or \"under\" the structure. The minimum clearance for a 3-meter width of the pavement or traveled part of the roadway where the clearance is the greatest shall be recorded and coded as a 4-digit number truncated to the hundredth of a meter (with an assumed decimal point). For structures having multiple openings, clearance for each opening shall be recorded, but only the greatest of the \"minimum clearances\" for the two or more openings shall be coded regardless of the direction of travel. This would be the practical maximum clearance. When no restriction exists or when the restriction is 30 meters or greater, code 9999. Coding of actual clearances between 30.0 and 99.99 meters to an exact measurement is optional.\n",
    "4. **Custodian** - The actual name(s) of the agency(s) responsible for the maintenance of the structure shall be recorded on the inspection form. There are codes in the catalog showing which numerical code go to which agency name. \n",
    "5. **Owner** - The actual name(s) of the owner(s) of the bridge shall be recorded on the inspection form. Codes in the catalog can be refered to the actual names of the owners.\n",
    "6. Functional Class - Functional classification of the inventory route such as: Principal Arterial - Interstate, Principal Arterial - Other, local, etc.\n",
    "7. **Year Built** - Year of construction of the structure. All 4 digits of the year of construction completion. \n",
    "8. **Lanes on** - Number of lanes being carried by the structure.\n",
    "9. **Lanes Under** - Number of lanes being crossed over by the structure. \n",
    "10. **Average Daily Traffic (ADT)** - 6-digit number showing the average daily traffic volume for the inventory route identified in Item 5.\n",
    "11. **Year of ADT** - The year represented by the ADT.\n",
    "12. **Design Load** - The live load for which the structure was designed such as: Pedestrian, Railroad, etc. \n",
    "13. **Apr Rdwy Width** - Approach Roadway Width is a 4-digit number representing the normal width of usable roadway approaching the structure measured to the nearest tenth of a meter.  \n",
    "14. **Median** - 1-digit code representing if median is non-existent, open, closed with no barrier or closed non-mountable barriers.\n",
    "15. **Skew** - The skew angle between the centerline of a pier and a line normal to the roadway centerline.\n",
    "16. **Posting Status** - This item provides information about the actual operational status of a structure.\n",
    "17. **Main Mat/Des gn 43A** - Kind of material and/or design based on main spans. \n",
    "18. **Main Mat/Des gn 43B** - Type of design and/or construction based on main spans.\n",
    "19. **Appr Mat/Des gn 44A** - Kind of material and/or design based on approach spans.\n",
    "20. **Appr Mat/Des gn 44B** - Type of design and/or construction based on approach spans. \n",
    "21. **Main Spans Unit** - The number of spans in the main or major unit. \n",
    "22. **Approach Spans** - The number of spans in the approach spans to the major bridge or number of spans of material different from that of the major bridge. \n",
    "23. **Horiz Clr** - Total horizontal clearance for the inventory route identified in Item 5.  \n",
    "24. **Max Span** - The length of the maximum span.\n",
    "25. **Str Length** - Structure length is a 6-digit number representing the length of the structure to the nearest tenth of a meter.\n",
    "26. **Curb Wdth L/R 50A** - Left curb or sidewalk width.\n",
    "27. **Curb Wdth L/R 50B** - Right curb or sidewalk width.\n",
    "28. **Width Curb to Curb** - The most restrictive minimum distance between curbs or rails on the structure roadway. \n",
    "29. **Width Out to Out** - 4-digit number to show the out-to-out width to the nearest tenth of a meter.\n",
    "30. **Deck Area** - Area of the deck.\n",
    "31. **Deck** - This item describes the overall condition rating of the deck.\n",
    "32. **Super** - This item describes the physical condition of all structural members.\n",
    "33. **Sub** - This item describes the physical condition of piers, abutments, piles, fenders, footings, or other components.  \n",
    "34. **Operating Rating** - This capacity rating, referred to as the operating rating, will result in the absolute maximum permissible load level to which the structure may be subjected for the vehicle type used in the rating.\n",
    "35. **Asph/Fill Thick** - This capacity rating, referred to as the inventory rating, will result in a load level which can safely utilize an existing structure for an indefinite period of time.\n",
    "36. **Str Evaluation** - Structural evalutation calculated by Edit/Update Program.\n",
    "37. **Deck Geometry** - Calculated by Edit/Update Program. Includes two evaluations: curb-topcube or face-to-face of rail bridge width and the minum vertical clearance over the bridge roadway.\n",
    "38. **Undrclr Vert/Hor** - calculated by Edit/Update Program. Vertical and Horizontal underclearances are measured from the through roadway to the superstructure or substructure units, respectively. \n",
    "39. **Posting** - The National Bridge Inspection Standards require the posting of load limits only if the maximum legal load configurations in the State exceeds the load permitted under the operating rating.\n",
    "40. **Waterway Adequacy** - This item appraises the waterway opening with respect to passage of flow through the bridge.\n",
    "41. **Approach Alignment** - Based on the adequacy of the approach roadway alignment. This item identifies those bridges which do not functino properly or adequately due to the alignment of the approaches.\n",
    "42. Highway System - \n",
    "43. Deck Type - \n",
    "44. Wearing Surface - \n",
    "45. Membrane - \n",
    "46. Truck ADT - \n",
    "47. Pier Protection - \n",
    "48. NBIS Length - \n",
    "49. Scour Critical - \n",
    "50. Scour Watch - \n",
    "59. CDOT Str Type - \n",
    "60. CDOT Constr Type - "
   ]
  },
  {
   "cell_type": "code",
   "execution_count": null,
   "metadata": {},
   "outputs": [],
   "source": []
  }
 ],
 "metadata": {
  "kernelspec": {
   "display_name": "Python 3",
   "language": "python",
   "name": "python3"
  },
  "language_info": {
   "codemirror_mode": {
    "name": "ipython",
    "version": 3
   },
   "file_extension": ".py",
   "mimetype": "text/x-python",
   "name": "python",
   "nbconvert_exporter": "python",
   "pygments_lexer": "ipython3",
   "version": "3.7.6"
  }
 },
 "nbformat": 4,
 "nbformat_minor": 4
}
