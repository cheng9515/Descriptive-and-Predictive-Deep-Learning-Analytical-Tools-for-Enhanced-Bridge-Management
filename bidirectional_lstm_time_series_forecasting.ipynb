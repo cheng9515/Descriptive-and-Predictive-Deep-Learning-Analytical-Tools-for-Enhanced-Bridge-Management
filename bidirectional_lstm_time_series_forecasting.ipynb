{
 "cells": [
  {
   "cell_type": "markdown",
   "metadata": {},
   "source": [
    "# Check the Python version being used"
   ]
  },
  {
   "cell_type": "code",
   "execution_count": 1,
   "metadata": {},
   "outputs": [
    {
     "name": "stdout",
     "output_type": "stream",
     "text": [
      "Python 3.7.6\n"
     ]
    }
   ],
   "source": [
    "!python --version"
   ]
  },
  {
   "cell_type": "markdown",
   "metadata": {},
   "source": [
    "# Check that the available gpu is being utilized"
   ]
  },
  {
   "cell_type": "code",
   "execution_count": 2,
   "metadata": {},
   "outputs": [],
   "source": [
    "import tensorflow as tf"
   ]
  },
  {
   "cell_type": "code",
   "execution_count": 3,
   "metadata": {},
   "outputs": [
    {
     "name": "stdout",
     "output_type": "stream",
     "text": [
      "Num GPUs Available\n",
      "1\n"
     ]
    }
   ],
   "source": [
    "print(\"Num GPUs Available\")\n",
    "print(len(tf.config.experimental.list_physical_devices('GPU')))"
   ]
  },
  {
   "cell_type": "markdown",
   "metadata": {},
   "source": [
    "# Start of second method of lstm time series forecasting"
   ]
  },
  {
   "cell_type": "code",
   "execution_count": 4,
   "metadata": {},
   "outputs": [],
   "source": [
    "from pandas import read_csv\n",
    "\n",
    "df = read_csv('Time_Series_For_Clustering_El_Paso_Final.csv')"
   ]
  },
  {
   "cell_type": "markdown",
   "metadata": {},
   "source": [
    "# get each separate time series as an individual list and append each of these lists to a master list"
   ]
  },
  {
   "cell_type": "code",
   "execution_count": 5,
   "metadata": {
    "scrolled": true
   },
   "outputs": [],
   "source": [
    "import re\n",
    "import pandas as pd\n",
    "\n",
    "non_decimal = re.compile(r'[^\\d.]+')\n",
    "\n",
    "list_of_training_df = []\n",
    "list_of_row_components = []\n",
    "\n",
    "for i in range(1, 524):\n",
    "    \n",
    "    current_row = df.iloc[i]\n",
    "    \n",
    "    bridge_id = current_row.iloc[0]\n",
    "    \n",
    "    current_row = current_row.iloc[1:]\n",
    "    \n",
    "    for j, row in current_row.iteritems():\n",
    "        \n",
    "        current_row_components = row.split(', ')\n",
    "        current_row_components_replaced = []\n",
    "\n",
    "        for idx, component in enumerate(current_row_components):\n",
    "\n",
    "            result = non_decimal.sub('', current_row_components[idx])\n",
    "            current_row_components_replaced.append(float(result))\n",
    "\n",
    "        list_of_row_components.append(current_row_components_replaced)"
   ]
  },
  {
   "cell_type": "markdown",
   "metadata": {},
   "source": [
    "# Ensure each element in the list of lists is a float"
   ]
  },
  {
   "cell_type": "code",
   "execution_count": 6,
   "metadata": {},
   "outputs": [],
   "source": [
    "for idx, element in enumerate(list_of_row_components):\n",
    "    for i in range(1, len(element)):\n",
    "        list_of_row_components[idx][i] = float(list_of_row_components[idx][i])"
   ]
  },
  {
   "cell_type": "markdown",
   "metadata": {},
   "source": [
    "# View one time series"
   ]
  },
  {
   "cell_type": "code",
   "execution_count": 7,
   "metadata": {},
   "outputs": [
    {
     "name": "stdout",
     "output_type": "stream",
     "text": [
      "[36.0, 97.0, 428.0, 1949.0, 2.0, 10.9, 7.3]\n",
      "[36.0, 96.9, 955.0, 1949.0, 2.0, 10.9, 7.3]\n",
      "[36.0, 96.9, 955.0, 1949.0, 2.0, 10.9, 7.3]\n",
      "[36.0, 96.9, 955.0, 1949.0, 2.0, 10.9, 7.3]\n",
      "[36.0, 96.9, 955.0, 1949.0, 2.0, 10.9, 7.3]\n",
      "[36.3, 97.0, 955.0, 1949.0, 2.0, 11.0, 7.0]\n",
      "[36.3, 96.9, 955.0, 1949.0, 2.0, 11.0, 7.3]\n",
      "[36.3, 96.9, 983.0, 1949.0, 2.0, 11.0, 7.3]\n",
      "[36.3, 96.9, 983.0, 1949.0, 2.0, 11.0, 7.3]\n",
      "[36.3, 96.9, 983.0, 1949.0, 2.0, 11.0, 7.3]\n",
      "[36.3, 96.9, 983.0, 1949.0, 2.0, 11.0, 7.3]\n",
      "[36.3, 97.0, 422.0, 1949.0, 2.0, 11.0, 7.3]\n",
      "[36.3, 97.0, 422.0, 1949.0, 2.0, 11.0, 7.3]\n",
      "[36.3, 97.0, 422.0, 1949.0, 2.0, 11.0, 7.3]\n",
      "[36.3, 97.0, 422.0, 1949.0, 2.0, 11.0, 7.3]\n",
      "[36.3, 97.0, 422.0, 1949.0, 2.0, 9.7, 7.3]\n",
      "[36.3, 97.0, 369.0, 1949.0, 2.0, 9.7, 7.3]\n",
      "[36.3, 86.0, 369.0, 1949.0, 2.0, 9.7, 7.3]\n",
      "[36.3, 86.0, 369.0, 1949.0, 2.0, 9.7, 7.3]\n",
      "[36.3, 86.0, 369.0, 1949.0, 2.0, 9.7, 7.3]\n",
      "[36.3, 86.0, 369.0, 1949.0, 2.0, 9.7, 7.3]\n",
      "[36.3, 86.0, 522.0, 1949.0, 2.0, 9.7, 7.3]\n"
     ]
    }
   ],
   "source": [
    "for i in range(22):\n",
    "    print(list_of_row_components[i])"
   ]
  },
  {
   "cell_type": "markdown",
   "metadata": {},
   "source": [
    "# Get length of list of lists"
   ]
  },
  {
   "cell_type": "code",
   "execution_count": 8,
   "metadata": {},
   "outputs": [
    {
     "data": {
      "text/plain": [
       "11506"
      ]
     },
     "execution_count": 8,
     "metadata": {},
     "output_type": "execute_result"
    }
   ],
   "source": [
    "len(list_of_row_components)"
   ]
  },
  {
   "cell_type": "markdown",
   "metadata": {},
   "source": [
    "# Swap last entry with second entry in time series to make the output predictor variable Sufficiency Rating"
   ]
  },
  {
   "cell_type": "code",
   "execution_count": 9,
   "metadata": {},
   "outputs": [],
   "source": [
    "for idx, component in enumerate(list_of_row_components):\n",
    "    temp = component[6]\n",
    "    list_of_row_components[idx][6] = list_of_row_components[idx][1]\n",
    "    list_of_row_components[idx][1] = temp"
   ]
  },
  {
   "cell_type": "markdown",
   "metadata": {},
   "source": [
    "# Convert format of list to have a single time series for each index"
   ]
  },
  {
   "cell_type": "code",
   "execution_count": 10,
   "metadata": {},
   "outputs": [],
   "source": [
    "import numpy as np\n",
    "\n",
    "list_of_examples = []\n",
    "temp_list = []\n",
    "\n",
    "max_num = 22\n",
    "iter = 0;\n",
    "\n",
    "for row_component in list_of_row_components:\n",
    "    if iter == max_num:\n",
    "        list_of_examples.append(np.array(temp_list))\n",
    "        temp_list = []\n",
    "        iter = 0\n",
    "        \n",
    "    temp_list.append(np.array(row_component))\n",
    "    iter += 1\n",
    "\n",
    "list_of_examples = np.array(list_of_examples)"
   ]
  },
  {
   "cell_type": "markdown",
   "metadata": {},
   "source": [
    "# Make the very last time step of each time series just a single value (Sufficiency Rating) for the model to predict on"
   ]
  },
  {
   "cell_type": "code",
   "execution_count": 11,
   "metadata": {},
   "outputs": [],
   "source": [
    "for idx, example in enumerate(list_of_examples):\n",
    "    list_of_examples[idx][21] = [list_of_examples[idx][21][6]]"
   ]
  },
  {
   "cell_type": "markdown",
   "metadata": {},
   "source": [
    "# Perform train test split for dataset"
   ]
  },
  {
   "cell_type": "code",
   "execution_count": 12,
   "metadata": {},
   "outputs": [],
   "source": [
    "from sklearn.model_selection import train_test_split\n",
    "\n",
    "n_train_periods = 300\n",
    "train = list_of_examples[:n_train_periods, :]\n",
    "test = list_of_examples[n_train_periods:, :]\n",
    "\n",
    "# split into input and outputs\n",
    "train_X, train_y = train[:, :-1, 1:], train[:, -1, 0]\n",
    "test_X, test_y = test[:, :-1, 1:], test[:, -1, 0]\n"
   ]
  },
  {
   "cell_type": "code",
   "execution_count": 13,
   "metadata": {},
   "outputs": [
    {
     "name": "stdout",
     "output_type": "stream",
     "text": [
      "Shape of train_X: (300, 21, 6)\n",
      "Shape of train_y: (300,)\n",
      "Shape of test_X: (222, 21, 6)\n",
      "Shape of test_y: (222,)\n"
     ]
    }
   ],
   "source": [
    "print(\"Shape of train_X: \" + str(train_X.shape))\n",
    "print(\"Shape of train_y: \" + str(train_y.shape))\n",
    "print(\"Shape of test_X: \" + str(test_X.shape))\n",
    "print(\"Shape of test_y: \" + str(test_y.shape))"
   ]
  },
  {
   "cell_type": "markdown",
   "metadata": {},
   "source": [
    "# Build simple Dense model"
   ]
  },
  {
   "cell_type": "code",
   "execution_count": 14,
   "metadata": {},
   "outputs": [
    {
     "name": "stdout",
     "output_type": "stream",
     "text": [
      "WARNING:tensorflow:Layer lstm will not use cuDNN kernel since it doesn't meet the cuDNN kernel criteria. It will use generic GPU kernel as fallback when running on GPU\n",
      "WARNING:tensorflow:Layer lstm will not use cuDNN kernel since it doesn't meet the cuDNN kernel criteria. It will use generic GPU kernel as fallback when running on GPU\n",
      "WARNING:tensorflow:Layer lstm will not use cuDNN kernel since it doesn't meet the cuDNN kernel criteria. It will use generic GPU kernel as fallback when running on GPU\n"
     ]
    }
   ],
   "source": [
    "bidirectional_lstm_model = tf.keras.models.Sequential([\n",
    "    # Shape [batch, time, features] => [batch, time, lstm_units]\n",
    "    tf.keras.layers.Bidirectional(tf.keras.layers.LSTM(50, dropout=0.2, recurrent_dropout=0.2, input_shape=(train_X.shape[1], train_X.shape[2]))),\n",
    "    tf.keras.layers.Dense(units=32),\n",
    "    tf.keras.layers.Dense(units=1)\n",
    "])"
   ]
  },
  {
   "cell_type": "markdown",
   "metadata": {},
   "source": [
    "# Compile model"
   ]
  },
  {
   "cell_type": "code",
   "execution_count": 15,
   "metadata": {},
   "outputs": [],
   "source": [
    "bidirectional_lstm_model.compile(loss='mae', optimizer='adam')"
   ]
  },
  {
   "cell_type": "markdown",
   "metadata": {},
   "source": [
    "# Train model"
   ]
  },
  {
   "cell_type": "code",
   "execution_count": 16,
   "metadata": {
    "scrolled": true
   },
   "outputs": [
    {
     "name": "stdout",
     "output_type": "stream",
     "text": [
      "Epoch 1/100\n",
      "10/10 - 1s - loss: 81.6910 - val_loss: 74.5561\n",
      "Epoch 2/100\n",
      "10/10 - 1s - loss: 79.9053 - val_loss: 73.0720\n",
      "Epoch 3/100\n",
      "10/10 - 1s - loss: 78.2443 - val_loss: 71.2474\n",
      "Epoch 4/100\n",
      "10/10 - 1s - loss: 76.1457 - val_loss: 69.1361\n",
      "Epoch 5/100\n",
      "10/10 - 1s - loss: 73.7319 - val_loss: 66.9373\n",
      "Epoch 6/100\n",
      "10/10 - 1s - loss: 70.8858 - val_loss: 64.2275\n",
      "Epoch 7/100\n",
      "10/10 - 1s - loss: 67.4324 - val_loss: 61.2190\n",
      "Epoch 8/100\n",
      "10/10 - 1s - loss: 63.3021 - val_loss: 57.1381\n",
      "Epoch 9/100\n",
      "10/10 - 1s - loss: 58.2810 - val_loss: 52.6690\n",
      "Epoch 10/100\n",
      "10/10 - 1s - loss: 52.5067 - val_loss: 47.8462\n",
      "Epoch 11/100\n",
      "10/10 - 1s - loss: 45.6145 - val_loss: 42.8706\n",
      "Epoch 12/100\n",
      "10/10 - 1s - loss: 38.8242 - val_loss: 37.3091\n",
      "Epoch 13/100\n",
      "10/10 - 1s - loss: 31.8485 - val_loss: 31.7272\n",
      "Epoch 14/100\n",
      "10/10 - 1s - loss: 25.8140 - val_loss: 26.4888\n",
      "Epoch 15/100\n",
      "10/10 - 1s - loss: 21.8277 - val_loss: 22.3188\n",
      "Epoch 16/100\n",
      "10/10 - 1s - loss: 18.3054 - val_loss: 19.0732\n",
      "Epoch 17/100\n",
      "10/10 - 1s - loss: 16.2514 - val_loss: 17.1004\n",
      "Epoch 18/100\n",
      "10/10 - 1s - loss: 16.3774 - val_loss: 16.1879\n",
      "Epoch 19/100\n",
      "10/10 - 1s - loss: 15.7526 - val_loss: 16.0866\n",
      "Epoch 20/100\n",
      "10/10 - 1s - loss: 15.4019 - val_loss: 16.2205\n",
      "Epoch 21/100\n",
      "10/10 - 1s - loss: 15.1917 - val_loss: 15.8592\n",
      "Epoch 22/100\n",
      "10/10 - 1s - loss: 15.5196 - val_loss: 15.5273\n",
      "Epoch 23/100\n",
      "10/10 - 1s - loss: 15.1784 - val_loss: 16.0649\n",
      "Epoch 24/100\n",
      "10/10 - 1s - loss: 15.8506 - val_loss: 15.8328\n",
      "Epoch 25/100\n",
      "10/10 - 1s - loss: 15.4000 - val_loss: 16.0033\n",
      "Epoch 26/100\n",
      "10/10 - 1s - loss: 15.2618 - val_loss: 15.8096\n",
      "Epoch 27/100\n",
      "10/10 - 1s - loss: 15.4999 - val_loss: 16.0975\n",
      "Epoch 28/100\n",
      "10/10 - 1s - loss: 15.2395 - val_loss: 16.2278\n",
      "Epoch 29/100\n",
      "10/10 - 1s - loss: 15.3790 - val_loss: 16.2950\n",
      "Epoch 30/100\n",
      "10/10 - 1s - loss: 15.3927 - val_loss: 16.1364\n",
      "Epoch 31/100\n",
      "10/10 - 1s - loss: 14.7153 - val_loss: 16.2542\n",
      "Epoch 32/100\n",
      "10/10 - 1s - loss: 15.1725 - val_loss: 15.8507\n",
      "Epoch 33/100\n",
      "10/10 - 1s - loss: 15.3447 - val_loss: 15.5870\n",
      "Epoch 34/100\n",
      "10/10 - 1s - loss: 14.8872 - val_loss: 15.6096\n",
      "Epoch 35/100\n",
      "10/10 - 1s - loss: 15.0370 - val_loss: 15.7485\n",
      "Epoch 36/100\n",
      "10/10 - 1s - loss: 14.5875 - val_loss: 15.8363\n",
      "Epoch 37/100\n",
      "10/10 - 1s - loss: 14.5575 - val_loss: 15.9424\n",
      "Epoch 38/100\n",
      "10/10 - 1s - loss: 14.4093 - val_loss: 15.8859\n",
      "Epoch 39/100\n",
      "10/10 - 1s - loss: 15.0163 - val_loss: 16.0131\n",
      "Epoch 40/100\n",
      "10/10 - 1s - loss: 14.8537 - val_loss: 15.9515\n",
      "Epoch 41/100\n",
      "10/10 - 1s - loss: 14.7296 - val_loss: 15.9313\n",
      "Epoch 42/100\n",
      "10/10 - 1s - loss: 14.4640 - val_loss: 16.2009\n",
      "Epoch 43/100\n",
      "10/10 - 1s - loss: 14.2023 - val_loss: 15.8974\n",
      "Epoch 44/100\n",
      "10/10 - 1s - loss: 14.0927 - val_loss: 15.8365\n",
      "Epoch 45/100\n",
      "10/10 - 1s - loss: 14.7009 - val_loss: 15.7676\n",
      "Epoch 46/100\n",
      "10/10 - 1s - loss: 14.2688 - val_loss: 15.8432\n",
      "Epoch 47/100\n",
      "10/10 - 1s - loss: 14.2039 - val_loss: 15.9212\n",
      "Epoch 48/100\n",
      "10/10 - 1s - loss: 13.9190 - val_loss: 15.8446\n",
      "Epoch 49/100\n",
      "10/10 - 1s - loss: 14.6498 - val_loss: 15.6859\n",
      "Epoch 50/100\n",
      "10/10 - 1s - loss: 14.8559 - val_loss: 15.5570\n",
      "Epoch 51/100\n",
      "10/10 - 1s - loss: 14.3447 - val_loss: 15.6433\n",
      "Epoch 52/100\n",
      "10/10 - 1s - loss: 14.1212 - val_loss: 15.4415\n",
      "Epoch 53/100\n",
      "10/10 - 1s - loss: 14.6370 - val_loss: 15.2551\n",
      "Epoch 54/100\n",
      "10/10 - 1s - loss: 14.6152 - val_loss: 15.1355\n",
      "Epoch 55/100\n",
      "10/10 - 1s - loss: 14.3264 - val_loss: 15.0872\n",
      "Epoch 56/100\n",
      "10/10 - 1s - loss: 13.2840 - val_loss: 14.9596\n",
      "Epoch 57/100\n",
      "10/10 - 1s - loss: 14.6792 - val_loss: 14.9096\n",
      "Epoch 58/100\n",
      "10/10 - 1s - loss: 13.5902 - val_loss: 14.8844\n",
      "Epoch 59/100\n",
      "10/10 - 1s - loss: 13.8681 - val_loss: 15.6345\n",
      "Epoch 60/100\n",
      "10/10 - 1s - loss: 14.4524 - val_loss: 15.7631\n",
      "Epoch 61/100\n",
      "10/10 - 1s - loss: 13.9651 - val_loss: 15.6364\n",
      "Epoch 62/100\n",
      "10/10 - 1s - loss: 14.5747 - val_loss: 15.4193\n",
      "Epoch 63/100\n",
      "10/10 - 1s - loss: 14.2127 - val_loss: 15.3408\n",
      "Epoch 64/100\n",
      "10/10 - 1s - loss: 14.2419 - val_loss: 15.2616\n",
      "Epoch 65/100\n",
      "10/10 - 1s - loss: 13.7825 - val_loss: 15.6703\n",
      "Epoch 66/100\n",
      "10/10 - 1s - loss: 14.7033 - val_loss: 15.7209\n",
      "Epoch 67/100\n",
      "10/10 - 1s - loss: 13.9408 - val_loss: 15.5837\n",
      "Epoch 68/100\n",
      "10/10 - 1s - loss: 13.6270 - val_loss: 15.6380\n",
      "Epoch 69/100\n",
      "10/10 - 1s - loss: 13.9722 - val_loss: 15.8712\n",
      "Epoch 70/100\n",
      "10/10 - 1s - loss: 13.8462 - val_loss: 15.8315\n",
      "Epoch 71/100\n",
      "10/10 - 1s - loss: 13.7415 - val_loss: 15.8088\n",
      "Epoch 72/100\n",
      "10/10 - 1s - loss: 13.6023 - val_loss: 15.7927\n",
      "Epoch 73/100\n",
      "10/10 - 1s - loss: 13.9076 - val_loss: 15.8817\n",
      "Epoch 74/100\n",
      "10/10 - 1s - loss: 13.3861 - val_loss: 16.4035\n",
      "Epoch 75/100\n",
      "10/10 - 1s - loss: 13.4681 - val_loss: 16.4609\n",
      "Epoch 76/100\n",
      "10/10 - 1s - loss: 14.0181 - val_loss: 15.6797\n",
      "Epoch 77/100\n",
      "10/10 - 1s - loss: 13.8628 - val_loss: 15.2743\n",
      "Epoch 78/100\n",
      "10/10 - 1s - loss: 13.9430 - val_loss: 15.7826\n",
      "Epoch 79/100\n",
      "10/10 - 1s - loss: 13.7974 - val_loss: 16.0890\n",
      "Epoch 80/100\n",
      "10/10 - 1s - loss: 13.4820 - val_loss: 16.5511\n",
      "Epoch 81/100\n",
      "10/10 - 1s - loss: 13.9964 - val_loss: 16.5329\n",
      "Epoch 82/100\n",
      "10/10 - 1s - loss: 13.7438 - val_loss: 16.1134\n",
      "Epoch 83/100\n",
      "10/10 - 1s - loss: 13.7083 - val_loss: 15.5793\n",
      "Epoch 84/100\n",
      "10/10 - 1s - loss: 13.3042 - val_loss: 16.3710\n",
      "Epoch 85/100\n",
      "10/10 - 1s - loss: 13.4222 - val_loss: 15.3396\n",
      "Epoch 86/100\n",
      "10/10 - 1s - loss: 13.5442 - val_loss: 15.4928\n",
      "Epoch 87/100\n",
      "10/10 - 1s - loss: 13.4450 - val_loss: 16.7468\n",
      "Epoch 88/100\n",
      "10/10 - 1s - loss: 13.7352 - val_loss: 16.3851\n",
      "Epoch 89/100\n",
      "10/10 - 1s - loss: 13.5738 - val_loss: 15.5954\n",
      "Epoch 90/100\n",
      "10/10 - 1s - loss: 13.4107 - val_loss: 15.4974\n",
      "Epoch 91/100\n",
      "10/10 - 1s - loss: 13.9531 - val_loss: 15.3988\n",
      "Epoch 92/100\n",
      "10/10 - 1s - loss: 13.3666 - val_loss: 15.5506\n",
      "Epoch 93/100\n",
      "10/10 - 1s - loss: 13.7354 - val_loss: 15.6429\n",
      "Epoch 94/100\n",
      "10/10 - 1s - loss: 13.5252 - val_loss: 15.6121\n",
      "Epoch 95/100\n",
      "10/10 - 1s - loss: 13.4950 - val_loss: 15.8847\n",
      "Epoch 96/100\n",
      "10/10 - 1s - loss: 13.4431 - val_loss: 16.2106\n",
      "Epoch 97/100\n",
      "10/10 - 1s - loss: 12.8739 - val_loss: 16.5569\n",
      "Epoch 98/100\n",
      "10/10 - 1s - loss: 13.4165 - val_loss: 15.9922\n",
      "Epoch 99/100\n",
      "10/10 - 1s - loss: 13.6217 - val_loss: 15.8102\n",
      "Epoch 100/100\n",
      "10/10 - 1s - loss: 12.8519 - val_loss: 15.6692\n"
     ]
    }
   ],
   "source": [
    "history = bidirectional_lstm_model.fit(train_X, train_y, epochs=100, batch_size=32, validation_data=(test_X, test_y), verbose=2, shuffle=False)"
   ]
  },
  {
   "cell_type": "markdown",
   "metadata": {},
   "source": [
    "# Plot model loss and validation loss"
   ]
  },
  {
   "cell_type": "code",
   "execution_count": 17,
   "metadata": {},
   "outputs": [
    {
     "data": {
      "image/png": "[encoded data removed]",
      "text/plain": [
       "<Figure size 432x288 with 1 Axes>"
      ]
     },
     "metadata": {
      "needs_background": "light"
     },
     "output_type": "display_data"
    }
   ],
   "source": [
    "from matplotlib import pyplot\n",
    "\n",
    "pyplot.plot(history.history['loss'], label='train')\n",
    "pyplot.plot(history.history['val_loss'], label='test')\n",
    "pyplot.legend()\n",
    "pyplot.show()"
   ]
  },
  {
   "cell_type": "markdown",
   "metadata": {},
   "source": [
    "# We now get the RMSE for both train and test sets to see if they differ by much"
   ]
  },
  {
   "cell_type": "markdown",
   "metadata": {},
   "source": [
    "# Make predictions based on train set and get a root mean squared error "
   ]
  },
  {
   "cell_type": "code",
   "execution_count": 18,
   "metadata": {},
   "outputs": [],
   "source": [
    "from sklearn.metrics import mean_squared_error\n",
    "import math\n",
    "\n",
    "train_yhat = bidirectional_lstm_model.predict(train_X)\n",
    "mse = mean_squared_error(train_y, train_yhat)\n",
    "rmse = math.sqrt(mse)"
   ]
  },
  {
   "cell_type": "code",
   "execution_count": 19,
   "metadata": {},
   "outputs": [
    {
     "name": "stdout",
     "output_type": "stream",
     "text": [
      "Train RMSE: 19.08313627266564\n"
     ]
    }
   ],
   "source": [
    "print('Train RMSE: ' + str(rmse))"
   ]
  },
  {
   "cell_type": "markdown",
   "metadata": {},
   "source": [
    "# Make predictions based on test set and get a root mean squared error "
   ]
  },
  {
   "cell_type": "code",
   "execution_count": 20,
   "metadata": {},
   "outputs": [],
   "source": [
    "from sklearn.metrics import mean_squared_error\n",
    "import math\n",
    "\n",
    "test_yhat = bidirectional_lstm_model.predict(test_X)\n",
    "mse = mean_squared_error(test_y, test_yhat)\n",
    "rmse = math.sqrt(mse)"
   ]
  },
  {
   "cell_type": "code",
   "execution_count": 21,
   "metadata": {},
   "outputs": [
    {
     "name": "stdout",
     "output_type": "stream",
     "text": [
      "Test RMSE: 18.892682625706126\n"
     ]
    }
   ],
   "source": [
    "print('Test RMSE: ' + str(rmse))"
   ]
  },
  {
   "cell_type": "markdown",
   "metadata": {},
   "source": [
    "# Plot train labels along with train predictions"
   ]
  },
  {
   "cell_type": "code",
   "execution_count": 22,
   "metadata": {},
   "outputs": [
    {
     "data": {
      "image/png": "[encoded data removed]",
      "text/plain": [
       "<Figure size 432x288 with 1 Axes>"
      ]
     },
     "metadata": {
      "needs_background": "light"
     },
     "output_type": "display_data"
    }
   ],
   "source": [
    "from matplotlib import pyplot\n",
    "\n",
    "pyplot.plot(train_yhat, label='actual')\n",
    "pyplot.plot(train_y, color='red', label='predicted')\n",
    "pyplot.show()"
   ]
  },
  {
   "cell_type": "markdown",
   "metadata": {},
   "source": [
    "# Plot test labels along with test predictions"
   ]
  },
  {
   "cell_type": "code",
   "execution_count": 23,
   "metadata": {
    "scrolled": false
   },
   "outputs": [
    {
     "data": {
      "image/png": "[encoded data removed]",
      "text/plain": [
       "<Figure size 432x288 with 1 Axes>"
      ]
     },
     "metadata": {
      "needs_background": "light"
     },
     "output_type": "display_data"
    }
   ],
   "source": [
    "from matplotlib import pyplot\n",
    "\n",
    "pyplot.plot(test_yhat, label='actual')\n",
    "pyplot.plot(test_y, color='red', label='predicted')\n",
    "pyplot.show()"
   ]
  },
  {
   "cell_type": "code",
   "execution_count": null,
   "metadata": {},
   "outputs": [],
   "source": []
  }
 ],
 "metadata": {
  "kernelspec": {
   "display_name": "tf_bridge_management_kernel",
   "language": "python",
   "name": "tf_bridge_management"
  },
  "language_info": {
   "codemirror_mode": {
    "name": "ipython",
    "version": 3
   },
   "file_extension": ".py",
   "mimetype": "text/x-python",
   "name": "python",
   "nbconvert_exporter": "python",
   "pygments_lexer": "ipython3",
   "version": "3.7.6"
  }
 },
 "nbformat": 4,
 "nbformat_minor": 4
}
